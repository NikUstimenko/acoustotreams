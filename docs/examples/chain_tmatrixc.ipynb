{
 "cells": [
  {
   "cell_type": "code",
   "execution_count": 2,
   "metadata": {},
   "outputs": [],
   "source": [
    "import matplotlib.pyplot as plt\n",
    "import numpy as np\n",
    "from joblib import Parallel, delayed\n",
    "\n",
    "import acoustotreams"
   ]
  },
  {
   "cell_type": "code",
   "execution_count": 3,
   "metadata": {},
   "outputs": [],
   "source": [
    "k0 =  2 * np.pi * 50000 / 343\n",
    "materials = [acoustotreams.AcousticMaterial(1050 + 100j, 2350 - 300j), \n",
    "            acoustotreams.AcousticMaterial(998, 1497)]\n",
    "lmax = mmax = 3\n",
    "radii = [0.0075, 0.0075]\n",
    "positions = [[-0.004, 0, -0.0075], [0.004, 0, 0.0075]]\n",
    "lattice = acoustotreams.Lattice(0.035)\n",
    "kz = 450."
   ]
  },
  {
   "cell_type": "code",
   "execution_count": 6,
   "metadata": {},
   "outputs": [],
   "source": [
    "spheres = [acoustotreams.AcousticTMatrix.sphere(lmax, k0, r, materials) for r in radii]\n",
    "chain = acoustotreams.AcousticTMatrix.cluster(spheres, positions).latticeinteraction.solve(lattice, kz)"
   ]
  },
  {
   "cell_type": "code",
   "execution_count": 7,
   "metadata": {},
   "outputs": [
    {
     "ename": "AttributeError",
     "evalue": "module 'acoustotreams._operatorsacoustics' has no attribute 'AcousticExpand'",
     "output_type": "error",
     "traceback": [
      "\u001b[0;31m---------------------------------------------------------------------------\u001b[0m",
      "\u001b[0;31mAttributeError\u001b[0m                            Traceback (most recent call last)",
      "Cell \u001b[0;32mIn[7], line 3\u001b[0m\n\u001b[1;32m      1\u001b[0m bmax \u001b[38;5;241m=\u001b[39m \u001b[38;5;241m3.1\u001b[39m \u001b[38;5;241m*\u001b[39m lattice\u001b[38;5;241m.\u001b[39mreciprocal\n\u001b[1;32m      2\u001b[0m cwb \u001b[38;5;241m=\u001b[39m acoustotreams\u001b[38;5;241m.\u001b[39mScalarCylindricalWaveBasis\u001b[38;5;241m.\u001b[39mdiffr_orders(kz, mmax, lattice, bmax, \u001b[38;5;241m2\u001b[39m, positions)\n\u001b[0;32m----> 3\u001b[0m chain_tmc \u001b[38;5;241m=\u001b[39m \u001b[43macoustotreams\u001b[49m\u001b[38;5;241;43m.\u001b[39;49m\u001b[43mAcousticTMatrixC\u001b[49m\u001b[38;5;241;43m.\u001b[39;49m\u001b[43mfrom_array\u001b[49m\u001b[43m(\u001b[49m\u001b[43mchain\u001b[49m\u001b[43m,\u001b[49m\u001b[43m \u001b[49m\u001b[43mcwb\u001b[49m\u001b[43m)\u001b[49m\n",
      "File \u001b[0;32m~/miniconda3/envs/treams_env/lib/python3.12/site-packages/acoustotreams/_tmatrixacoustics.py:652\u001b[0m, in \u001b[0;36mAcousticTMatrixC.from_array\u001b[0;34m(cls, tm, basis, eta)\u001b[0m\n\u001b[1;32m    648\u001b[0m \u001b[38;5;129m@classmethod\u001b[39m\n\u001b[1;32m    649\u001b[0m \u001b[38;5;28;01mdef\u001b[39;00m\u001b[38;5;250m \u001b[39m\u001b[38;5;21mfrom_array\u001b[39m(\u001b[38;5;28mcls\u001b[39m, tm, basis, \u001b[38;5;241m*\u001b[39m, eta\u001b[38;5;241m=\u001b[39m\u001b[38;5;241m0\u001b[39m):\n\u001b[1;32m    650\u001b[0m \u001b[38;5;250m    \u001b[39m\u001b[38;5;124;03m\"\"\"1d array of spherical T-matrices.\"\"\"\u001b[39;00m\n\u001b[1;32m    651\u001b[0m     \u001b[38;5;28;01mreturn\u001b[39;00m \u001b[38;5;28mcls\u001b[39m(\n\u001b[0;32m--> 652\u001b[0m         (tm \u001b[38;5;241m@\u001b[39m \u001b[43mopa\u001b[49m\u001b[38;5;241;43m.\u001b[39;49m\u001b[43mAcousticExpand\u001b[49m(basis)\u001b[38;5;241m.\u001b[39minv)\u001b[38;5;241m.\u001b[39mexpandlattice(basis\u001b[38;5;241m=\u001b[39mbasis, eta\u001b[38;5;241m=\u001b[39meta),\n\u001b[1;32m    653\u001b[0m         lattice\u001b[38;5;241m=\u001b[39mtm\u001b[38;5;241m.\u001b[39mlattice,\n\u001b[1;32m    654\u001b[0m         kpar\u001b[38;5;241m=\u001b[39mtm\u001b[38;5;241m.\u001b[39mkpar,\n\u001b[1;32m    655\u001b[0m     )\n",
      "\u001b[0;31mAttributeError\u001b[0m: module 'acoustotreams._operatorsacoustics' has no attribute 'AcousticExpand'"
     ]
    }
   ],
   "source": [
    "bmax = 3.1 * lattice.reciprocal\n",
    "cwb = acoustotreams.ScalarCylindricalWaveBasis.diffr_orders(kz, mmax, lattice, bmax, 2, positions)\n",
    "chain_tmc = acoustotreams.AcousticTMatrixC.from_array(chain, cwb)"
   ]
  }
 ],
 "metadata": {
  "kernelspec": {
   "display_name": "treams_env",
   "language": "python",
   "name": "python3"
  },
  "language_info": {
   "codemirror_mode": {
    "name": "ipython",
    "version": 3
   },
   "file_extension": ".py",
   "mimetype": "text/x-python",
   "name": "python",
   "nbconvert_exporter": "python",
   "pygments_lexer": "ipython3",
   "version": "3.12.4"
  }
 },
 "nbformat": 4,
 "nbformat_minor": 2
}
