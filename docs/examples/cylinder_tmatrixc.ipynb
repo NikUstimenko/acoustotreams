{
 "cells": [
  {
   "cell_type": "code",
   "execution_count": 2,
   "metadata": {},
   "outputs": [
    {
     "ename": "UnboundLocalError",
     "evalue": "cannot access local variable 'k_cyl' where it is not associated with a value",
     "output_type": "error",
     "traceback": [
      "\u001b[0;31m---------------------------------------------------------------------------\u001b[0m",
      "\u001b[0;31mUnboundLocalError\u001b[0m                         Traceback (most recent call last)",
      "Cell \u001b[0;32mIn[2], line 13\u001b[0m\n\u001b[1;32m     11\u001b[0m mmax \u001b[38;5;241m=\u001b[39m \u001b[38;5;241m10\u001b[39m\n\u001b[1;32m     12\u001b[0m radius \u001b[38;5;241m=\u001b[39m \u001b[38;5;241m0.005\u001b[39m\n\u001b[0;32m---> 13\u001b[0m cylinders \u001b[38;5;241m=\u001b[39m \u001b[43m[\u001b[49m\u001b[43macoutreams\u001b[49m\u001b[38;5;241;43m.\u001b[39;49m\u001b[43mAcousticTMatrixC\u001b[49m\u001b[38;5;241;43m.\u001b[39;49m\u001b[43mcylinder\u001b[49m\u001b[43m(\u001b[49m\u001b[43mkzs\u001b[49m\u001b[43m,\u001b[49m\u001b[43m \u001b[49m\u001b[43mmmax\u001b[49m\u001b[43m,\u001b[49m\u001b[43m \u001b[49m\u001b[43mk0\u001b[49m\u001b[43m,\u001b[49m\u001b[43m \u001b[49m\u001b[43mradius\u001b[49m\u001b[43m,\u001b[49m\u001b[43m \u001b[49m\u001b[43mmaterials\u001b[49m\u001b[43m)\u001b[49m\u001b[43m \u001b[49m\u001b[38;5;28;43;01mfor\u001b[39;49;00m\u001b[43m \u001b[49m\u001b[43mk0\u001b[49m\u001b[43m \u001b[49m\u001b[38;5;129;43;01min\u001b[39;49;00m\u001b[43m \u001b[49m\u001b[43mk0s\u001b[49m\u001b[43m]\u001b[49m\n",
      "Cell \u001b[0;32mIn[2], line 13\u001b[0m, in \u001b[0;36m<listcomp>\u001b[0;34m(.0)\u001b[0m\n\u001b[1;32m     11\u001b[0m mmax \u001b[38;5;241m=\u001b[39m \u001b[38;5;241m10\u001b[39m\n\u001b[1;32m     12\u001b[0m radius \u001b[38;5;241m=\u001b[39m \u001b[38;5;241m0.005\u001b[39m\n\u001b[0;32m---> 13\u001b[0m cylinders \u001b[38;5;241m=\u001b[39m [\u001b[43macoutreams\u001b[49m\u001b[38;5;241;43m.\u001b[39;49m\u001b[43mAcousticTMatrixC\u001b[49m\u001b[38;5;241;43m.\u001b[39;49m\u001b[43mcylinder\u001b[49m\u001b[43m(\u001b[49m\u001b[43mkzs\u001b[49m\u001b[43m,\u001b[49m\u001b[43m \u001b[49m\u001b[43mmmax\u001b[49m\u001b[43m,\u001b[49m\u001b[43m \u001b[49m\u001b[43mk0\u001b[49m\u001b[43m,\u001b[49m\u001b[43m \u001b[49m\u001b[43mradius\u001b[49m\u001b[43m,\u001b[49m\u001b[43m \u001b[49m\u001b[43mmaterials\u001b[49m\u001b[43m)\u001b[49m \u001b[38;5;28;01mfor\u001b[39;00m k0 \u001b[38;5;129;01min\u001b[39;00m k0s]\n",
      "File \u001b[0;32m~/codes/acoutreams/acoutreams/_tmatrixacoustics.py:582\u001b[0m, in \u001b[0;36mAcousticTMatrixC.cylinder\u001b[0;34m(cls, kzs, mmax, k0, radii, materials)\u001b[0m\n\u001b[1;32m    580\u001b[0m \u001b[38;5;28;01mfor\u001b[39;00m kz \u001b[38;5;129;01min\u001b[39;00m kzs:\n\u001b[1;32m    581\u001b[0m     \u001b[38;5;28;01mfor\u001b[39;00m m \u001b[38;5;129;01min\u001b[39;00m \u001b[38;5;28mrange\u001b[39m(\u001b[38;5;241m-\u001b[39mmmax, mmax \u001b[38;5;241m+\u001b[39m \u001b[38;5;241m1\u001b[39m):\n\u001b[0;32m--> 582\u001b[0m         miecoeffs \u001b[38;5;241m=\u001b[39m \u001b[43mmie_acoustics_cyl\u001b[49m\u001b[43m(\u001b[49m\u001b[43mkz\u001b[49m\u001b[43m,\u001b[49m\u001b[43m \u001b[49m\u001b[43mm\u001b[49m\u001b[43m,\u001b[49m\u001b[43m \u001b[49m\u001b[43mk0\u001b[49m\u001b[43m,\u001b[49m\u001b[43m \u001b[49m\u001b[43mradii\u001b[49m\u001b[43m,\u001b[49m\u001b[43m \u001b[49m\u001b[38;5;241;43m*\u001b[39;49m\u001b[38;5;28;43mzip\u001b[39;49m\u001b[43m(\u001b[49m\u001b[38;5;241;43m*\u001b[39;49m\u001b[43mmaterials\u001b[49m\u001b[43m)\u001b[49m\u001b[43m)\u001b[49m\n\u001b[1;32m    583\u001b[0m         tmat[idx, idx] \u001b[38;5;241m=\u001b[39m miecoeffs\n\u001b[1;32m    584\u001b[0m         idx \u001b[38;5;241m+\u001b[39m\u001b[38;5;241m=\u001b[39m \u001b[38;5;241m1\u001b[39m\n",
      "File \u001b[0;32m~/codes/acoutreams/acoutreams/coeffsacoustics.py:58\u001b[0m, in \u001b[0;36mmie_acoustics_cyl\u001b[0;34m(kz, m, k0, radii, *materials)\u001b[0m\n\u001b[1;32m     56\u001b[0m mat_cyl, mat_env \u001b[38;5;241m=\u001b[39m \u001b[38;5;28mzip\u001b[39m(\u001b[38;5;241m*\u001b[39mmaterials) \n\u001b[1;32m     57\u001b[0m k_env \u001b[38;5;241m=\u001b[39m k0 \u001b[38;5;241m*\u001b[39m AcousticMaterial()\u001b[38;5;241m.\u001b[39mc \u001b[38;5;241m/\u001b[39m mat_env[\u001b[38;5;241m1\u001b[39m]\n\u001b[0;32m---> 58\u001b[0m krho_cyl \u001b[38;5;241m=\u001b[39m np\u001b[38;5;241m.\u001b[39msqrt(\u001b[43mk_cyl\u001b[49m \u001b[38;5;241m*\u001b[39m k_cyl \u001b[38;5;241m-\u001b[39m kz \u001b[38;5;241m*\u001b[39m kz)\n\u001b[1;32m     59\u001b[0m krho_env \u001b[38;5;241m=\u001b[39m np\u001b[38;5;241m.\u001b[39msqrt(k_env \u001b[38;5;241m*\u001b[39m k_env \u001b[38;5;241m-\u001b[39m kz \u001b[38;5;241m*\u001b[39m kz)\n\u001b[1;32m     60\u001b[0m x_cyl \u001b[38;5;241m=\u001b[39m krho_cyl \u001b[38;5;241m*\u001b[39m radii\n",
      "\u001b[0;31mUnboundLocalError\u001b[0m: cannot access local variable 'k_cyl' where it is not associated with a value"
     ]
    }
   ],
   "source": [
    "import matplotlib.pyplot as plt\n",
    "import numpy as np\n",
    "from joblib import Parallel, delayed\n",
    "\n",
    "import acoutreams\n",
    "\n",
    "k0s = 2 * np.pi * np.linspace(50000, 500000, 200) / 343\n",
    "materials = [acoutreams.AcousticMaterial(1050 + 100j, 2350 - 300j), \n",
    "             acoutreams.AcousticMaterial(998, 1497)]\n",
    "kzs = [0]\n",
    "mmax = 10\n",
    "radius = 0.005\n",
    "cylinders = [acoutreams.AcousticTMatrixC.cylinder(kzs, mmax, k0, radius, materials) for k0 in k0s]"
   ]
  },
  {
   "cell_type": "code",
   "execution_count": null,
   "metadata": {},
   "outputs": [],
   "source": []
  }
 ],
 "metadata": {
  "kernelspec": {
   "display_name": "treams_env",
   "language": "python",
   "name": "python3"
  },
  "language_info": {
   "codemirror_mode": {
    "name": "ipython",
    "version": 3
   },
   "file_extension": ".py",
   "mimetype": "text/x-python",
   "name": "python",
   "nbconvert_exporter": "python",
   "pygments_lexer": "ipython3",
   "version": "3.11.6"
  }
 },
 "nbformat": 4,
 "nbformat_minor": 2
}
